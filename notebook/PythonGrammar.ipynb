{
 "cells": [
  {
   "cell_type": "markdown",
   "metadata": {},
   "source": [
    "## Contents\n",
    "* 四則演算\n",
    "* 変数\n",
    "    * int, float\n",
    "    * str\n",
    "    * List\n",
    "    * Dict\n",
    "    * boolean\n",
    "    * 型の確認: type\n",
    "* 制御文\n",
    "    * if\n",
    "    * for\n",
    "    * while\n",
    "* 関数\n",
    "* コメント"
   ]
  },
  {
   "cell_type": "markdown",
   "metadata": {},
   "source": [
    "## Reference\n",
    "* https://docs.python.org/3/tutorial/index.html"
   ]
  },
  {
   "cell_type": "markdown",
   "metadata": {},
   "source": [
    "---"
   ]
  },
  {
   "cell_type": "markdown",
   "metadata": {},
   "source": [
    "## 四則演算"
   ]
  },
  {
   "cell_type": "code",
   "execution_count": 1,
   "metadata": {},
   "outputs": [
    {
     "name": "stdout",
     "output_type": "stream",
     "text": [
      "4\n",
      "20\n",
      "5.0\n",
      "1.6\n",
      "14.0\n"
     ]
    }
   ],
   "source": [
    "print(2 + 2)\n",
    "print(50 - 5 * 6)\n",
    "print((50 - 5 * 6) / 4)\n",
    "print(8 / 5) # division always returns a floating point number\n",
    "print(4 * 3.75 - 1)"
   ]
  },
  {
   "cell_type": "code",
   "execution_count": 2,
   "metadata": {},
   "outputs": [
    {
     "name": "stdout",
     "output_type": "stream",
     "text": [
      "5.666666666666667\n",
      "5\n",
      "2\n"
     ]
    }
   ],
   "source": [
    "print(17 / 3)  # classic division returns a float\n",
    "print(17 // 3) # floor division discards the fractional part\n",
    "print(17 % 3)  # the % operator returns the remainder of the division"
   ]
  },
  {
   "cell_type": "code",
   "execution_count": 3,
   "metadata": {},
   "outputs": [
    {
     "name": "stdout",
     "output_type": "stream",
     "text": [
      "25\n",
      "128\n",
      "2 4 8 16\n"
     ]
    }
   ],
   "source": [
    "print(5 ** 2) # 5 squared\n",
    "print(2 ** 7) # 2 to the power of 7\n",
    "\n",
    "print(2 ** 1, 2 ** 2, 2 ** 3, 2 ** 4)"
   ]
  },
  {
   "cell_type": "code",
   "execution_count": null,
   "metadata": {},
   "outputs": [],
   "source": []
  },
  {
   "cell_type": "markdown",
   "metadata": {},
   "source": [
    "---"
   ]
  },
  {
   "cell_type": "markdown",
   "metadata": {},
   "source": [
    "## 変数\n",
    "### 数"
   ]
  },
  {
   "cell_type": "code",
   "execution_count": 4,
   "metadata": {},
   "outputs": [
    {
     "name": "stdout",
     "output_type": "stream",
     "text": [
      "19.031141868512112\n"
     ]
    }
   ],
   "source": [
    "height = 1.7\n",
    "weight = 55\n",
    "bmi = weight / (height ** 2)\n",
    "print(bmi)"
   ]
  },
  {
   "cell_type": "markdown",
   "metadata": {},
   "source": [
    "### 文字列\n",
    "文字列は\n",
    "\n",
    "* single quotesで囲む('...')\n",
    "* double quotesで囲む(\"...\")\n",
    "\n",
    "が基本です．"
   ]
  },
  {
   "cell_type": "code",
   "execution_count": 5,
   "metadata": {},
   "outputs": [
    {
     "name": "stdout",
     "output_type": "stream",
     "text": [
      "spam eggs\n",
      "doesn't\n",
      "doesn't\n",
      "\"Yes,\" they said.\n",
      "\"Yes,\" they said.\n"
     ]
    }
   ],
   "source": [
    "print('spam eggs') # single quotes\n",
    "\n",
    "print('doesn\\'t')  # use \\' to escape the single quote...\n",
    "print(\"doesn't\")   # ...or use double quotes instead\n",
    "\n",
    "print('\"Yes,\" they said.') # vice versa\n",
    "print(\"\\\"Yes,\\\" they said.\")"
   ]
  },
  {
   "cell_type": "markdown",
   "metadata": {},
   "source": [
    "文字列同士は足し算で連結できます．"
   ]
  },
  {
   "cell_type": "code",
   "execution_count": 6,
   "metadata": {},
   "outputs": [
    {
     "name": "stdout",
     "output_type": "stream",
     "text": [
      "Py\n",
      "thon\n",
      "Python\n"
     ]
    }
   ],
   "source": [
    "a = \"Py\"\n",
    "b = \"thon\"\n",
    "print(a)\n",
    "print(b)\n",
    "print(a + b)"
   ]
  },
  {
   "cell_type": "code",
   "execution_count": 7,
   "metadata": {},
   "outputs": [
    {
     "name": "stdout",
     "output_type": "stream",
     "text": [
      "23\n",
      "['Sunday', ' Monday', ' Tuesday']\n",
      "Sunday/ Monday/ Tuesday\n"
     ]
    }
   ],
   "source": [
    "c = \"Sunday, Monday, Tuesday\"\n",
    "\n",
    "# return length of string:c\n",
    "print(len(c))\n",
    "\n",
    "# split string:c by ','\n",
    "print(c.split(','))\n",
    "\n",
    "# replace ',' in string:c with '/'\n",
    "print(c.replace(',', '/'))"
   ]
  },
  {
   "cell_type": "code",
   "execution_count": null,
   "metadata": {},
   "outputs": [],
   "source": []
  },
  {
   "cell_type": "markdown",
   "metadata": {},
   "source": [
    "### List\n",
    "リスト(配列)は，複数の値をカンマ区切りで並べ角括弧で囲むことで表される．"
   ]
  },
  {
   "cell_type": "code",
   "execution_count": 8,
   "metadata": {},
   "outputs": [
    {
     "name": "stdout",
     "output_type": "stream",
     "text": [
      "[1, 4, 9, 16, 25]\n"
     ]
    }
   ],
   "source": [
    "squares = [1, 4, 9, 16, 25]\n",
    "print(squares)"
   ]
  },
  {
   "cell_type": "code",
   "execution_count": 9,
   "metadata": {},
   "outputs": [
    {
     "name": "stdout",
     "output_type": "stream",
     "text": [
      "1\n",
      "9\n"
     ]
    }
   ],
   "source": [
    "print(squares[0])\n",
    "print(squares[2])"
   ]
  },
  {
   "cell_type": "markdown",
   "metadata": {},
   "source": [
    "後ろから何番目かでも指定できる"
   ]
  },
  {
   "cell_type": "code",
   "execution_count": 10,
   "metadata": {},
   "outputs": [
    {
     "name": "stdout",
     "output_type": "stream",
     "text": [
      "25\n",
      "16\n"
     ]
    }
   ],
   "source": [
    "print(squares[-1])\n",
    "print(squares[-2])"
   ]
  },
  {
   "cell_type": "markdown",
   "metadata": {},
   "source": [
    "*スライス*をうまく使うと便利です"
   ]
  },
  {
   "cell_type": "code",
   "execution_count": 11,
   "metadata": {},
   "outputs": [
    {
     "name": "stdout",
     "output_type": "stream",
     "text": [
      "[1, 4]\n",
      "[1, 4, 9]\n",
      "[4, 9, 16]\n"
     ]
    }
   ],
   "source": [
    "print(squares[0:2])\n",
    "print(squares[0:3])\n",
    "print(squares[1:4])"
   ]
  },
  {
   "cell_type": "code",
   "execution_count": 12,
   "metadata": {},
   "outputs": [
    {
     "name": "stdout",
     "output_type": "stream",
     "text": [
      "[1, 4, 9]\n",
      "[16, 25]\n"
     ]
    }
   ],
   "source": [
    "print(squares[:3])\n",
    "print(squares[3:])"
   ]
  },
  {
   "cell_type": "code",
   "execution_count": 13,
   "metadata": {},
   "outputs": [],
   "source": [
    "#  +---+---+---+---+---+\n",
    "#  |  1|  4|  9| 16| 25|\n",
    "#  +---+---+---+---+---+\n",
    "#  0   1   2   3   4   5  # index\n",
    "# -5  -4  -3  -2  -1  "
   ]
  },
  {
   "cell_type": "markdown",
   "metadata": {},
   "source": [
    "リストは足し算で連結できます"
   ]
  },
  {
   "cell_type": "code",
   "execution_count": 14,
   "metadata": {},
   "outputs": [
    {
     "name": "stdout",
     "output_type": "stream",
     "text": [
      "[1, 4, 9, 16, 25]\n",
      "[36, 49, 64, 81, 100]\n",
      "[1, 4, 9, 16, 25, 36, 49, 64, 81, 100]\n"
     ]
    }
   ],
   "source": [
    "squareA = [1, 4, 9, 16, 25]\n",
    "squareB = [36, 49, 64, 81, 100]\n",
    "print(squareA)\n",
    "print(squareB)\n",
    "print(squareA + squareB)"
   ]
  },
  {
   "cell_type": "markdown",
   "metadata": {},
   "source": [
    "`len()`でリストの要素数を得られます．"
   ]
  },
  {
   "cell_type": "code",
   "execution_count": 15,
   "metadata": {},
   "outputs": [
    {
     "name": "stdout",
     "output_type": "stream",
     "text": [
      "5 5 10\n"
     ]
    }
   ],
   "source": [
    "print(len(squareA), len(squareB), len(squareA + squareB))"
   ]
  },
  {
   "cell_type": "markdown",
   "metadata": {},
   "source": [
    "リストのリストも作れます．"
   ]
  },
  {
   "cell_type": "code",
   "execution_count": 16,
   "metadata": {},
   "outputs": [
    {
     "name": "stdout",
     "output_type": "stream",
     "text": [
      "[[1, 4, 9, 16, 25], [36, 49, 64, 81, 100]]\n",
      "[1, 4, 9, 16, 25]\n",
      "64\n"
     ]
    }
   ],
   "source": [
    "squareC = [squareA, squareB]\n",
    "print(squareC)\n",
    "print(squareC[0])\n",
    "print(squareC[1][2])"
   ]
  },
  {
   "cell_type": "markdown",
   "metadata": {},
   "source": [
    "`append()`を用いると，リストに新しい要素を追加できます．"
   ]
  },
  {
   "cell_type": "code",
   "execution_count": 17,
   "metadata": {},
   "outputs": [
    {
     "name": "stdout",
     "output_type": "stream",
     "text": [
      "[36, 49, 64, 81, 100, 121]\n",
      "6\n"
     ]
    }
   ],
   "source": [
    "squareB.append(121)\n",
    "print(squareB)\n",
    "print(len(squareB))"
   ]
  },
  {
   "cell_type": "code",
   "execution_count": null,
   "metadata": {},
   "outputs": [],
   "source": []
  },
  {
   "cell_type": "markdown",
   "metadata": {},
   "source": [
    "### Dict  - 辞書型\n",
    "リストと似た型としてDict(辞書型)があります．\n",
    "辞書型はキーと値をペアにして保持するような型です．\n",
    "`{}`で以下のように作ることができます．\n",
    "\n",
    "Dict - {`キー1`: `値1`, `キー2`: `値2`, ...}"
   ]
  },
  {
   "cell_type": "code",
   "execution_count": 18,
   "metadata": {},
   "outputs": [],
   "source": [
    "room = {\"ono\": 920, \"yamaguchi\": 921, \"watanabe\": 911}"
   ]
  },
  {
   "cell_type": "code",
   "execution_count": 19,
   "metadata": {},
   "outputs": [
    {
     "name": "stdout",
     "output_type": "stream",
     "text": [
      "{'ono': 920, 'yamaguchi': 921, 'watanabe': 911}\n",
      "920\n"
     ]
    }
   ],
   "source": [
    "print(room)\n",
    "print(room[\"ono\"])"
   ]
  },
  {
   "cell_type": "code",
   "execution_count": 20,
   "metadata": {},
   "outputs": [],
   "source": [
    "room[\"hosomi\"] = 920\n",
    "room[\"hirao\"] = 911"
   ]
  },
  {
   "cell_type": "code",
   "execution_count": 21,
   "metadata": {},
   "outputs": [
    {
     "data": {
      "text/plain": [
       "{'ono': 920, 'yamaguchi': 921, 'watanabe': 911, 'hosomi': 920, 'hirao': 911}"
      ]
     },
     "execution_count": 21,
     "metadata": {},
     "output_type": "execute_result"
    }
   ],
   "source": [
    "room"
   ]
  },
  {
   "cell_type": "code",
   "execution_count": 22,
   "metadata": {},
   "outputs": [
    {
     "name": "stdout",
     "output_type": "stream",
     "text": [
      "dict_keys(['ono', 'yamaguchi', 'watanabe', 'hosomi', 'hirao'])\n",
      "dict_values([920, 921, 911, 920, 911])\n",
      "dict_items([('ono', 920), ('yamaguchi', 921), ('watanabe', 911), ('hosomi', 920), ('hirao', 911)])\n"
     ]
    }
   ],
   "source": [
    "print(room.keys())   # keyの一覧\n",
    "print(room.values()) # 値の一覧\n",
    "print(room.items())  # keyと値のペアの一覧"
   ]
  },
  {
   "cell_type": "code",
   "execution_count": null,
   "metadata": {},
   "outputs": [],
   "source": []
  },
  {
   "cell_type": "markdown",
   "metadata": {},
   "source": [
    "### boolean"
   ]
  },
  {
   "cell_type": "code",
   "execution_count": 23,
   "metadata": {},
   "outputs": [
    {
     "name": "stdout",
     "output_type": "stream",
     "text": [
      "True False\n"
     ]
    }
   ],
   "source": [
    "b1 = 1 > 0\n",
    "b2 = 1 < 0\n",
    "print(b1, b2)"
   ]
  },
  {
   "cell_type": "code",
   "execution_count": null,
   "metadata": {},
   "outputs": [],
   "source": []
  },
  {
   "cell_type": "code",
   "execution_count": 24,
   "metadata": {},
   "outputs": [],
   "source": [
    "# and と or について"
   ]
  },
  {
   "cell_type": "code",
   "execution_count": null,
   "metadata": {},
   "outputs": [],
   "source": []
  },
  {
   "cell_type": "markdown",
   "metadata": {},
   "source": [
    "### 組み込み関数: type()\n",
    "変数の「型」を確認できる．"
   ]
  },
  {
   "cell_type": "code",
   "execution_count": 25,
   "metadata": {},
   "outputs": [
    {
     "name": "stdout",
     "output_type": "stream",
     "text": [
      "<class 'float'> 1.7\n",
      "<class 'int'> 55\n",
      "<class 'str'> Sunday, Monday, Tuesday\n",
      "<class 'list'> [1, 4, 9, 16, 25]\n",
      "<class 'dict'> {'ono': 920, 'yamaguchi': 921, 'watanabe': 911, 'hosomi': 920, 'hirao': 911}\n"
     ]
    }
   ],
   "source": [
    "print(type(height), height)\n",
    "print(type(weight), weight)\n",
    "\n",
    "print(type(c), c)\n",
    "\n",
    "print(type(squares), squares)\n",
    "\n",
    "print(type(room), room)"
   ]
  },
  {
   "cell_type": "code",
   "execution_count": null,
   "metadata": {},
   "outputs": [],
   "source": []
  },
  {
   "cell_type": "markdown",
   "metadata": {},
   "source": [
    "---"
   ]
  },
  {
   "cell_type": "markdown",
   "metadata": {},
   "source": [
    "## 制御文\n",
    "if, for, whileといった制御文がpythonにもあります．<br>\n",
    "C言語などと違い，制御文の中身は`{}`で囲んだりはせずに，\n",
    "**インデント**することによって他と区別します．"
   ]
  },
  {
   "cell_type": "markdown",
   "metadata": {},
   "source": [
    "### if\n",
    "インデントとif/elif/elseの各行の最後の`:`を忘れないように注意してください．"
   ]
  },
  {
   "cell_type": "code",
   "execution_count": 26,
   "metadata": {},
   "outputs": [],
   "source": [
    "x = -1"
   ]
  },
  {
   "cell_type": "code",
   "execution_count": 27,
   "metadata": {},
   "outputs": [
    {
     "name": "stdout",
     "output_type": "stream",
     "text": [
      "x is negative.\n",
      "if文おわり\n"
     ]
    }
   ],
   "source": [
    "if x < 0:\n",
    "    print(\"x is negative.\")\n",
    "elif x == 0:\n",
    "    print(\"x is zero.\")\n",
    "else:\n",
    "    print(\"x is positive.\")\n",
    "print(\"if文おわり\")"
   ]
  },
  {
   "cell_type": "code",
   "execution_count": null,
   "metadata": {},
   "outputs": [],
   "source": []
  },
  {
   "cell_type": "markdown",
   "metadata": {},
   "source": [
    "### for\n",
    "Pythonのfor文は以下のように`for i in l:`という形で書きます．<br>\n",
    "`l`にはリストなどのデータ集合を指定します．\n",
    "この時`i`という変数が`l`の表すデータ集合の各要素に順にアクセスしていきます．"
   ]
  },
  {
   "cell_type": "code",
   "execution_count": 28,
   "metadata": {},
   "outputs": [
    {
     "name": "stdout",
     "output_type": "stream",
     "text": [
      "quantum 7\n",
      "field 5\n",
      "theory 6\n"
     ]
    }
   ],
   "source": [
    "words = [\"quantum\", \"field\", \"theory\"]\n",
    "for word in words:\n",
    "    print(word, len(word))"
   ]
  },
  {
   "cell_type": "code",
   "execution_count": 29,
   "metadata": {},
   "outputs": [
    {
     "name": "stdout",
     "output_type": "stream",
     "text": [
      "0\n",
      "1\n",
      "2\n",
      "3\n",
      "4\n",
      "5\n",
      "6\n",
      "7\n",
      "8\n",
      "9\n"
     ]
    }
   ],
   "source": [
    "for i in [0, 1, 2, 3, 4, 5, 6, 7, 8, 9]:\n",
    "    print(i)"
   ]
  },
  {
   "cell_type": "markdown",
   "metadata": {},
   "source": [
    "`range()`関数を使えば，もっと簡単に書くこともできます．"
   ]
  },
  {
   "cell_type": "code",
   "execution_count": 30,
   "metadata": {},
   "outputs": [
    {
     "name": "stdout",
     "output_type": "stream",
     "text": [
      "0\n",
      "1\n",
      "2\n",
      "3\n",
      "4\n",
      "5\n",
      "6\n",
      "7\n",
      "8\n",
      "9\n"
     ]
    }
   ],
   "source": [
    "for i in range(10):\n",
    "    print(i)"
   ]
  },
  {
   "cell_type": "code",
   "execution_count": null,
   "metadata": {},
   "outputs": [],
   "source": []
  },
  {
   "cell_type": "markdown",
   "metadata": {},
   "source": [
    "### while"
   ]
  },
  {
   "cell_type": "code",
   "execution_count": 31,
   "metadata": {},
   "outputs": [
    {
     "name": "stdout",
     "output_type": "stream",
     "text": [
      "0 1\n",
      "1 1\n",
      "1 2\n",
      "2 3\n",
      "3 5\n",
      "5 8\n",
      "8 13\n",
      "13 21\n",
      "21 34\n"
     ]
    }
   ],
   "source": [
    "# fibonacci series\n",
    "f1, f2 = 0, 1\n",
    "while f1 < 30:\n",
    "    print(f1, f2)\n",
    "    f1, f2 = f2, f1+f2"
   ]
  },
  {
   "cell_type": "code",
   "execution_count": null,
   "metadata": {},
   "outputs": [],
   "source": []
  },
  {
   "cell_type": "markdown",
   "metadata": {},
   "source": [
    "---"
   ]
  },
  {
   "cell_type": "markdown",
   "metadata": {},
   "source": [
    "## 関数\n",
    "関数を作るときは`def`を使って以下のように書きます．\n",
    "* 引数はいくつでも大丈夫です．\n",
    "* returnをするかどうか，returnする値の型が何かによらず`def`を使います．"
   ]
  },
  {
   "cell_type": "code",
   "execution_count": 32,
   "metadata": {},
   "outputs": [],
   "source": [
    "# return n-th fibonacci series\n",
    "def fibo(n):\n",
    "    \"\"\"\n",
    "    Return n-th value of fibonacci series\n",
    "    argument\n",
    "        n: int\n",
    "    \"\"\"\n",
    "    f1, f2 = 0, 1\n",
    "    while n > 0:\n",
    "        f1, f2 = f2, f1+f2  \n",
    "        n -= 1\n",
    "    \n",
    "    return f1"
   ]
  },
  {
   "cell_type": "code",
   "execution_count": 33,
   "metadata": {},
   "outputs": [
    {
     "data": {
      "text/plain": [
       "(0, 1, 1, 2, 3, 5)"
      ]
     },
     "execution_count": 33,
     "metadata": {},
     "output_type": "execute_result"
    }
   ],
   "source": [
    "fibo(0), fibo(1), fibo(2), fibo(3), fibo(4), fibo(5)"
   ]
  },
  {
   "cell_type": "code",
   "execution_count": 34,
   "metadata": {},
   "outputs": [
    {
     "data": {
      "text/plain": [
       "6765"
      ]
     },
     "execution_count": 34,
     "metadata": {},
     "output_type": "execute_result"
    }
   ],
   "source": [
    "fibo(20)"
   ]
  },
  {
   "cell_type": "code",
   "execution_count": null,
   "metadata": {},
   "outputs": [],
   "source": []
  },
  {
   "cell_type": "markdown",
   "metadata": {},
   "source": [
    "---"
   ]
  },
  {
   "cell_type": "markdown",
   "metadata": {},
   "source": [
    "### コメント\n",
    "* `#`以降は全てコメントとして解釈されます\n",
    "* 関数`fibo`の始めの部分ように`\"\"\"`で囲んだ部分はコメントとして扱われます．"
   ]
  },
  {
   "cell_type": "code",
   "execution_count": null,
   "metadata": {},
   "outputs": [],
   "source": []
  },
  {
   "cell_type": "markdown",
   "metadata": {},
   "source": [
    "---"
   ]
  },
  {
   "cell_type": "markdown",
   "metadata": {},
   "source": [
    "[Topへ戻る](https://github.com/Kevinrobot34/MLwithPython)"
   ]
  }
 ],
 "metadata": {
  "kernelspec": {
   "display_name": "Python 3 (def)",
   "language": "python",
   "name": "python3"
  },
  "language_info": {
   "codemirror_mode": {
    "name": "ipython",
    "version": 3
   },
   "file_extension": ".py",
   "mimetype": "text/x-python",
   "name": "python",
   "nbconvert_exporter": "python",
   "pygments_lexer": "ipython3",
   "version": "3.7.1"
  }
 },
 "nbformat": 4,
 "nbformat_minor": 2
}
